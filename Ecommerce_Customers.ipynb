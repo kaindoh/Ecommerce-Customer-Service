{
  "nbformat": 4,
  "nbformat_minor": 0,
  "metadata": {
    "kernelspec": {
      "display_name": "R",
      "language": "R",
      "name": "ir"
    },
    "language_info": {
      "name": ""
    },
    "colab": {
      "name": "Ecommerce Customers.ipynb",
      "provenance": [],
      "include_colab_link": true
    }
  },
  "cells": [
    {
      "cell_type": "markdown",
      "metadata": {
        "id": "view-in-github",
        "colab_type": "text"
      },
      "source": [
        "<a href=\"https://colab.research.google.com/github/kaindoh/Ecommerce-Customer-Service/blob/master/Ecommerce_Customers.ipynb\" target=\"_parent\"><img src=\"https://colab.research.google.com/assets/colab-badge.svg\" alt=\"Open In Colab\"/></a>"
      ]
    },
    {
      "cell_type": "markdown",
      "metadata": {
        "id": "l2j1jBtwMgnm",
        "colab_type": "text"
      },
      "source": [
        "# Loading the Libraries"
      ]
    },
    {
      "cell_type": "code",
      "metadata": {
        "id": "WFnmYgYLMgnq",
        "colab_type": "code",
        "colab": {}
      },
      "source": [
        "install.packages(\"DataExplorer\")"
      ],
      "execution_count": 0,
      "outputs": []
    },
    {
      "cell_type": "code",
      "metadata": {
        "id": "DDVMZAduMgnt",
        "colab_type": "code",
        "colab": {}
      },
      "source": [
        "library(DataExplorer)"
      ],
      "execution_count": 0,
      "outputs": []
    },
    {
      "cell_type": "code",
      "metadata": {
        "id": "cIe4QAToMgnv",
        "colab_type": "code",
        "colab": {}
      },
      "source": [
        "# Importing libaries\n",
        "\n",
        "library(tidyverse)"
      ],
      "execution_count": 0,
      "outputs": []
    },
    {
      "cell_type": "code",
      "metadata": {
        "id": "5L3rfsKtMgnx",
        "colab_type": "code",
        "colab": {}
      },
      "source": [
        "library(ggplot2)"
      ],
      "execution_count": 0,
      "outputs": []
    },
    {
      "cell_type": "markdown",
      "metadata": {
        "id": "25T9tWCRMgnz",
        "colab_type": "text"
      },
      "source": [
        "# Loading The Online Shopping Dataset"
      ]
    },
    {
      "cell_type": "code",
      "metadata": {
        "id": "5IarvUWAMgnz",
        "colab_type": "code",
        "colab": {},
        "outputId": "75db92b7-b357-452a-8337-d04ec5a354fa"
      },
      "source": [
        "# Loading the dataset and displaying the first 6 rows\n",
        "\n",
        "df = read.csv(\"online_shoppers_intention.csv\")\n",
        "head(df) "
      ],
      "execution_count": 0,
      "outputs": [
        {
          "output_type": "display_data",
          "data": {
            "text/html": [
              "<table>\n",
              "<thead><tr><th scope=col>Administrative</th><th scope=col>Administrative_Duration</th><th scope=col>Informational</th><th scope=col>Informational_Duration</th><th scope=col>ProductRelated</th><th scope=col>ProductRelated_Duration</th><th scope=col>BounceRates</th><th scope=col>ExitRates</th><th scope=col>PageValues</th><th scope=col>SpecialDay</th><th scope=col>Month</th><th scope=col>OperatingSystems</th><th scope=col>Browser</th><th scope=col>Region</th><th scope=col>TrafficType</th><th scope=col>VisitorType</th><th scope=col>Weekend</th><th scope=col>Revenue</th></tr></thead>\n",
              "<tbody>\n",
              "\t<tr><td>0                </td><td> 0               </td><td>0                </td><td> 0               </td><td> 1               </td><td>  0.000000       </td><td>0.20000000       </td><td>0.2000000        </td><td>0                </td><td>0                </td><td>Feb              </td><td>1                </td><td>1                </td><td>1                </td><td>1                </td><td>Returning_Visitor</td><td>FALSE            </td><td>FALSE            </td></tr>\n",
              "\t<tr><td>0                </td><td> 0               </td><td>0                </td><td> 0               </td><td> 2               </td><td> 64.000000       </td><td>0.00000000       </td><td>0.1000000        </td><td>0                </td><td>0                </td><td>Feb              </td><td>2                </td><td>2                </td><td>1                </td><td>2                </td><td>Returning_Visitor</td><td>FALSE            </td><td>FALSE            </td></tr>\n",
              "\t<tr><td>0                </td><td>-1               </td><td>0                </td><td>-1               </td><td> 1               </td><td> -1.000000       </td><td>0.20000000       </td><td>0.2000000        </td><td>0                </td><td>0                </td><td>Feb              </td><td>4                </td><td>1                </td><td>9                </td><td>3                </td><td>Returning_Visitor</td><td>FALSE            </td><td>FALSE            </td></tr>\n",
              "\t<tr><td>0                </td><td> 0               </td><td>0                </td><td> 0               </td><td> 2               </td><td>  2.666667       </td><td>0.05000000       </td><td>0.1400000        </td><td>0                </td><td>0                </td><td>Feb              </td><td>3                </td><td>2                </td><td>2                </td><td>4                </td><td>Returning_Visitor</td><td>FALSE            </td><td>FALSE            </td></tr>\n",
              "\t<tr><td>0                </td><td> 0               </td><td>0                </td><td> 0               </td><td>10               </td><td>627.500000       </td><td>0.02000000       </td><td>0.0500000        </td><td>0                </td><td>0                </td><td>Feb              </td><td>3                </td><td>3                </td><td>1                </td><td>4                </td><td>Returning_Visitor</td><td> TRUE            </td><td>FALSE            </td></tr>\n",
              "\t<tr><td>0                </td><td> 0               </td><td>0                </td><td> 0               </td><td>19               </td><td>154.216667       </td><td>0.01578947       </td><td>0.0245614        </td><td>0                </td><td>0                </td><td>Feb              </td><td>2                </td><td>2                </td><td>1                </td><td>3                </td><td>Returning_Visitor</td><td>FALSE            </td><td>FALSE            </td></tr>\n",
              "</tbody>\n",
              "</table>\n"
            ],
            "text/latex": "\\begin{tabular}{r|llllllllllllllllll}\n Administrative & Administrative\\_Duration & Informational & Informational\\_Duration & ProductRelated & ProductRelated\\_Duration & BounceRates & ExitRates & PageValues & SpecialDay & Month & OperatingSystems & Browser & Region & TrafficType & VisitorType & Weekend & Revenue\\\\\n\\hline\n\t 0                   &  0                  & 0                   &  0                  &  1                  &   0.000000          & 0.20000000          & 0.2000000           & 0                   & 0                   & Feb                 & 1                   & 1                   & 1                   & 1                   & Returning\\_Visitor & FALSE               & FALSE              \\\\\n\t 0                   &  0                  & 0                   &  0                  &  2                  &  64.000000          & 0.00000000          & 0.1000000           & 0                   & 0                   & Feb                 & 2                   & 2                   & 1                   & 2                   & Returning\\_Visitor & FALSE               & FALSE              \\\\\n\t 0                   & -1                  & 0                   & -1                  &  1                  &  -1.000000          & 0.20000000          & 0.2000000           & 0                   & 0                   & Feb                 & 4                   & 1                   & 9                   & 3                   & Returning\\_Visitor & FALSE               & FALSE              \\\\\n\t 0                   &  0                  & 0                   &  0                  &  2                  &   2.666667          & 0.05000000          & 0.1400000           & 0                   & 0                   & Feb                 & 3                   & 2                   & 2                   & 4                   & Returning\\_Visitor & FALSE               & FALSE              \\\\\n\t 0                   &  0                  & 0                   &  0                  & 10                  & 627.500000          & 0.02000000          & 0.0500000           & 0                   & 0                   & Feb                 & 3                   & 3                   & 1                   & 4                   & Returning\\_Visitor &  TRUE               & FALSE              \\\\\n\t 0                   &  0                  & 0                   &  0                  & 19                  & 154.216667          & 0.01578947          & 0.0245614           & 0                   & 0                   & Feb                 & 2                   & 2                   & 1                   & 3                   & Returning\\_Visitor & FALSE               & FALSE              \\\\\n\\end{tabular}\n",
            "text/markdown": "\n| Administrative | Administrative_Duration | Informational | Informational_Duration | ProductRelated | ProductRelated_Duration | BounceRates | ExitRates | PageValues | SpecialDay | Month | OperatingSystems | Browser | Region | TrafficType | VisitorType | Weekend | Revenue |\n|---|---|---|---|---|---|---|---|---|---|---|---|---|---|---|---|---|---|\n| 0                 |  0                | 0                 |  0                |  1                |   0.000000        | 0.20000000        | 0.2000000         | 0                 | 0                 | Feb               | 1                 | 1                 | 1                 | 1                 | Returning_Visitor | FALSE             | FALSE             |\n| 0                 |  0                | 0                 |  0                |  2                |  64.000000        | 0.00000000        | 0.1000000         | 0                 | 0                 | Feb               | 2                 | 2                 | 1                 | 2                 | Returning_Visitor | FALSE             | FALSE             |\n| 0                 | -1                | 0                 | -1                |  1                |  -1.000000        | 0.20000000        | 0.2000000         | 0                 | 0                 | Feb               | 4                 | 1                 | 9                 | 3                 | Returning_Visitor | FALSE             | FALSE             |\n| 0                 |  0                | 0                 |  0                |  2                |   2.666667        | 0.05000000        | 0.1400000         | 0                 | 0                 | Feb               | 3                 | 2                 | 2                 | 4                 | Returning_Visitor | FALSE             | FALSE             |\n| 0                 |  0                | 0                 |  0                | 10                | 627.500000        | 0.02000000        | 0.0500000         | 0                 | 0                 | Feb               | 3                 | 3                 | 1                 | 4                 | Returning_Visitor |  TRUE             | FALSE             |\n| 0                 |  0                | 0                 |  0                | 19                | 154.216667        | 0.01578947        | 0.0245614         | 0                 | 0                 | Feb               | 2                 | 2                 | 1                 | 3                 | Returning_Visitor | FALSE             | FALSE             |\n\n",
            "text/plain": [
              "  Administrative Administrative_Duration Informational Informational_Duration\n",
              "1 0               0                      0              0                    \n",
              "2 0               0                      0              0                    \n",
              "3 0              -1                      0             -1                    \n",
              "4 0               0                      0              0                    \n",
              "5 0               0                      0              0                    \n",
              "6 0               0                      0              0                    \n",
              "  ProductRelated ProductRelated_Duration BounceRates ExitRates PageValues\n",
              "1  1               0.000000              0.20000000  0.2000000 0         \n",
              "2  2              64.000000              0.00000000  0.1000000 0         \n",
              "3  1              -1.000000              0.20000000  0.2000000 0         \n",
              "4  2               2.666667              0.05000000  0.1400000 0         \n",
              "5 10             627.500000              0.02000000  0.0500000 0         \n",
              "6 19             154.216667              0.01578947  0.0245614 0         \n",
              "  SpecialDay Month OperatingSystems Browser Region TrafficType\n",
              "1 0          Feb   1                1       1      1          \n",
              "2 0          Feb   2                2       1      2          \n",
              "3 0          Feb   4                1       9      3          \n",
              "4 0          Feb   3                2       2      4          \n",
              "5 0          Feb   3                3       1      4          \n",
              "6 0          Feb   2                2       1      3          \n",
              "  VisitorType       Weekend Revenue\n",
              "1 Returning_Visitor FALSE   FALSE  \n",
              "2 Returning_Visitor FALSE   FALSE  \n",
              "3 Returning_Visitor FALSE   FALSE  \n",
              "4 Returning_Visitor FALSE   FALSE  \n",
              "5 Returning_Visitor  TRUE   FALSE  \n",
              "6 Returning_Visitor FALSE   FALSE  "
            ]
          },
          "metadata": {
            "tags": []
          }
        }
      ]
    },
    {
      "cell_type": "markdown",
      "metadata": {
        "id": "MjbybJaKMgn2",
        "colab_type": "text"
      },
      "source": [
        "# Getting the information of the Dataset"
      ]
    },
    {
      "cell_type": "code",
      "metadata": {
        "id": "XsZHubOYMgn3",
        "colab_type": "code",
        "colab": {},
        "outputId": "835cda82-85df-444d-b875-63751f7df6d1"
      },
      "source": [
        "# Getting the column names\n",
        "\n",
        "attributes(df)$names"
      ],
      "execution_count": 0,
      "outputs": [
        {
          "output_type": "display_data",
          "data": {
            "text/html": [
              "<ol class=list-inline>\n",
              "\t<li>'Administrative'</li>\n",
              "\t<li>'Administrative_Duration'</li>\n",
              "\t<li>'Informational'</li>\n",
              "\t<li>'Informational_Duration'</li>\n",
              "\t<li>'ProductRelated'</li>\n",
              "\t<li>'ProductRelated_Duration'</li>\n",
              "\t<li>'BounceRates'</li>\n",
              "\t<li>'ExitRates'</li>\n",
              "\t<li>'PageValues'</li>\n",
              "\t<li>'SpecialDay'</li>\n",
              "\t<li>'Month'</li>\n",
              "\t<li>'OperatingSystems'</li>\n",
              "\t<li>'Browser'</li>\n",
              "\t<li>'Region'</li>\n",
              "\t<li>'TrafficType'</li>\n",
              "\t<li>'VisitorType'</li>\n",
              "\t<li>'Weekend'</li>\n",
              "\t<li>'Revenue'</li>\n",
              "</ol>\n"
            ],
            "text/latex": "\\begin{enumerate*}\n\\item 'Administrative'\n\\item 'Administrative\\_Duration'\n\\item 'Informational'\n\\item 'Informational\\_Duration'\n\\item 'ProductRelated'\n\\item 'ProductRelated\\_Duration'\n\\item 'BounceRates'\n\\item 'ExitRates'\n\\item 'PageValues'\n\\item 'SpecialDay'\n\\item 'Month'\n\\item 'OperatingSystems'\n\\item 'Browser'\n\\item 'Region'\n\\item 'TrafficType'\n\\item 'VisitorType'\n\\item 'Weekend'\n\\item 'Revenue'\n\\end{enumerate*}\n",
            "text/markdown": "1. 'Administrative'\n2. 'Administrative_Duration'\n3. 'Informational'\n4. 'Informational_Duration'\n5. 'ProductRelated'\n6. 'ProductRelated_Duration'\n7. 'BounceRates'\n8. 'ExitRates'\n9. 'PageValues'\n10. 'SpecialDay'\n11. 'Month'\n12. 'OperatingSystems'\n13. 'Browser'\n14. 'Region'\n15. 'TrafficType'\n16. 'VisitorType'\n17. 'Weekend'\n18. 'Revenue'\n\n\n",
            "text/plain": [
              " [1] \"Administrative\"          \"Administrative_Duration\"\n",
              " [3] \"Informational\"           \"Informational_Duration\" \n",
              " [5] \"ProductRelated\"          \"ProductRelated_Duration\"\n",
              " [7] \"BounceRates\"             \"ExitRates\"              \n",
              " [9] \"PageValues\"              \"SpecialDay\"             \n",
              "[11] \"Month\"                   \"OperatingSystems\"       \n",
              "[13] \"Browser\"                 \"Region\"                 \n",
              "[15] \"TrafficType\"             \"VisitorType\"            \n",
              "[17] \"Weekend\"                 \"Revenue\"                "
            ]
          },
          "metadata": {
            "tags": []
          }
        }
      ]
    },
    {
      "cell_type": "code",
      "metadata": {
        "id": "lY6yDc5XMgn5",
        "colab_type": "code",
        "colab": {},
        "outputId": "74663877-6729-4e53-8388-af45a8d96465"
      },
      "source": [
        "# Getting the class ofthe data\n",
        "\n",
        "attributes(df)$class"
      ],
      "execution_count": 0,
      "outputs": [
        {
          "output_type": "display_data",
          "data": {
            "text/html": [
              "'data.frame'"
            ],
            "text/latex": "'data.frame'",
            "text/markdown": "'data.frame'",
            "text/plain": [
              "[1] \"data.frame\""
            ]
          },
          "metadata": {
            "tags": []
          }
        }
      ]
    },
    {
      "cell_type": "code",
      "metadata": {
        "id": "zs94J2JXMgn7",
        "colab_type": "code",
        "colab": {},
        "outputId": "5abebb6e-4f7f-4591-b46b-ba40b5a7a2e8"
      },
      "source": [
        "# Getting the data type of the individual column\n",
        "\n",
        "glimpse(df)"
      ],
      "execution_count": 0,
      "outputs": [
        {
          "output_type": "stream",
          "text": [
            "Observations: 12,330\n",
            "Variables: 18\n",
            "$ Administrative          <int> 0, 0, 0, 0, 0, 0, 0, 1, 0, 0, 0, 0, 0, 0, 0...\n",
            "$ Administrative_Duration <dbl> 0, 0, -1, 0, 0, 0, -1, -1, 0, 0, 0, 0, 0, 0...\n",
            "$ Informational           <int> 0, 0, 0, 0, 0, 0, 0, 0, 0, 0, 0, 0, 0, 0, 0...\n",
            "$ Informational_Duration  <dbl> 0, 0, -1, 0, 0, 0, -1, -1, 0, 0, 0, 0, 0, 0...\n",
            "$ ProductRelated          <int> 1, 2, 1, 2, 10, 19, 1, 1, 2, 3, 3, 16, 7, 6...\n",
            "$ ProductRelated_Duration <dbl> 0.000000, 64.000000, -1.000000, 2.666667, 6...\n",
            "$ BounceRates             <dbl> 0.200000000, 0.000000000, 0.200000000, 0.05...\n",
            "$ ExitRates               <dbl> 0.200000000, 0.100000000, 0.200000000, 0.14...\n",
            "$ PageValues              <dbl> 0, 0, 0, 0, 0, 0, 0, 0, 0, 0, 0, 0, 0, 0, 0...\n",
            "$ SpecialDay              <dbl> 0.0, 0.0, 0.0, 0.0, 0.0, 0.0, 0.4, 0.0, 0.8...\n",
            "$ Month                   <fct> Feb, Feb, Feb, Feb, Feb, Feb, Feb, Feb, Feb...\n",
            "$ OperatingSystems        <int> 1, 2, 4, 3, 3, 2, 2, 1, 2, 2, 1, 1, 1, 2, 3...\n",
            "$ Browser                 <int> 1, 2, 1, 2, 3, 2, 4, 2, 2, 4, 1, 1, 1, 5, 2...\n",
            "$ Region                  <int> 1, 1, 9, 2, 1, 1, 3, 1, 2, 1, 3, 4, 1, 1, 3...\n",
            "$ TrafficType             <int> 1, 2, 3, 4, 4, 3, 3, 5, 3, 2, 3, 3, 3, 3, 3...\n",
            "$ VisitorType             <fct> Returning_Visitor, Returning_Visitor, Retur...\n",
            "$ Weekend                 <lgl> FALSE, FALSE, FALSE, FALSE, TRUE, FALSE, FA...\n",
            "$ Revenue                 <lgl> FALSE, FALSE, FALSE, FALSE, FALSE, FALSE, F...\n"
          ],
          "name": "stdout"
        }
      ]
    },
    {
      "cell_type": "code",
      "metadata": {
        "id": "7OYg-8dNMgn9",
        "colab_type": "code",
        "colab": {},
        "outputId": "3944c2b3-cd58-412b-8873-0b42b97c200b"
      },
      "source": [
        "# Checking the unique values of columns that are factors \n",
        "\n",
        "fac.columns <- c('Month','VisitorType')\n",
        "no <- function(x) {  \n",
        "    levels(x)\n",
        "  }\n",
        "  \n",
        "number <- sapply(select(df, fac.columns), no)\n",
        "number"
      ],
      "execution_count": 0,
      "outputs": [
        {
          "output_type": "display_data",
          "data": {
            "text/html": [
              "<dl>\n",
              "\t<dt>$Month</dt>\n",
              "\t\t<dd><ol class=list-inline>\n",
              "\t<li>'Aug'</li>\n",
              "\t<li>'Dec'</li>\n",
              "\t<li>'Feb'</li>\n",
              "\t<li>'Jul'</li>\n",
              "\t<li>'June'</li>\n",
              "\t<li>'Mar'</li>\n",
              "\t<li>'May'</li>\n",
              "\t<li>'Nov'</li>\n",
              "\t<li>'Oct'</li>\n",
              "\t<li>'Sep'</li>\n",
              "</ol>\n",
              "</dd>\n",
              "\t<dt>$VisitorType</dt>\n",
              "\t\t<dd><ol class=list-inline>\n",
              "\t<li>'New_Visitor'</li>\n",
              "\t<li>'Other'</li>\n",
              "\t<li>'Returning_Visitor'</li>\n",
              "</ol>\n",
              "</dd>\n",
              "</dl>\n"
            ],
            "text/latex": "\\begin{description}\n\\item[\\$Month] \\begin{enumerate*}\n\\item 'Aug'\n\\item 'Dec'\n\\item 'Feb'\n\\item 'Jul'\n\\item 'June'\n\\item 'Mar'\n\\item 'May'\n\\item 'Nov'\n\\item 'Oct'\n\\item 'Sep'\n\\end{enumerate*}\n\n\\item[\\$VisitorType] \\begin{enumerate*}\n\\item 'New\\_Visitor'\n\\item 'Other'\n\\item 'Returning\\_Visitor'\n\\end{enumerate*}\n\n\\end{description}\n",
            "text/markdown": "$Month\n:   1. 'Aug'\n2. 'Dec'\n3. 'Feb'\n4. 'Jul'\n5. 'June'\n6. 'Mar'\n7. 'May'\n8. 'Nov'\n9. 'Oct'\n10. 'Sep'\n\n\n\n$VisitorType\n:   1. 'New_Visitor'\n2. 'Other'\n3. 'Returning_Visitor'\n\n\n\n\n\n",
            "text/plain": [
              "$Month\n",
              " [1] \"Aug\"  \"Dec\"  \"Feb\"  \"Jul\"  \"June\" \"Mar\"  \"May\"  \"Nov\"  \"Oct\"  \"Sep\" \n",
              "\n",
              "$VisitorType\n",
              "[1] \"New_Visitor\"       \"Other\"             \"Returning_Visitor\"\n"
            ]
          },
          "metadata": {
            "tags": []
          }
        }
      ]
    },
    {
      "cell_type": "markdown",
      "metadata": {
        "id": "1E_iw-XLMgn_",
        "colab_type": "text"
      },
      "source": [
        "The month of April and January are not there"
      ]
    },
    {
      "cell_type": "code",
      "metadata": {
        "id": "laM_MX3oMgoB",
        "colab_type": "code",
        "colab": {},
        "outputId": "9da07ade-faac-4411-b154-cc23a1c512c6"
      },
      "source": [
        "# Checking the unique values of columns that are numerical \n",
        "\n",
        "num.columns <- c('Administrative','Informational','SpecialDay','OperatingSystems','Browser','Region','TrafficType','Weekend','Revenue')\n",
        "no <- function(x) {  \n",
        "    unique(x)\n",
        "  }\n",
        "  \n",
        "number <- sapply(select(df, num.columns), no)\n",
        "number"
      ],
      "execution_count": 0,
      "outputs": [
        {
          "output_type": "display_data",
          "data": {
            "text/html": [
              "<dl>\n",
              "\t<dt>$Administrative</dt>\n",
              "\t\t<dd><ol class=list-inline>\n",
              "\t<li>0</li>\n",
              "\t<li>1</li>\n",
              "\t<li>2</li>\n",
              "\t<li>4</li>\n",
              "\t<li>12</li>\n",
              "\t<li>3</li>\n",
              "\t<li>10</li>\n",
              "\t<li>6</li>\n",
              "\t<li>5</li>\n",
              "\t<li>9</li>\n",
              "\t<li>8</li>\n",
              "\t<li>16</li>\n",
              "\t<li>13</li>\n",
              "\t<li>11</li>\n",
              "\t<li>7</li>\n",
              "\t<li>18</li>\n",
              "\t<li>14</li>\n",
              "\t<li>17</li>\n",
              "\t<li>19</li>\n",
              "\t<li>15</li>\n",
              "\t<li>&lt;NA&gt;</li>\n",
              "\t<li>24</li>\n",
              "\t<li>22</li>\n",
              "\t<li>21</li>\n",
              "\t<li>20</li>\n",
              "\t<li>23</li>\n",
              "\t<li>27</li>\n",
              "\t<li>26</li>\n",
              "</ol>\n",
              "</dd>\n",
              "\t<dt>$Informational</dt>\n",
              "\t\t<dd><ol class=list-inline>\n",
              "\t<li>0</li>\n",
              "\t<li>1</li>\n",
              "\t<li>2</li>\n",
              "\t<li>4</li>\n",
              "\t<li>16</li>\n",
              "\t<li>5</li>\n",
              "\t<li>3</li>\n",
              "\t<li>14</li>\n",
              "\t<li>6</li>\n",
              "\t<li>12</li>\n",
              "\t<li>7</li>\n",
              "\t<li>&lt;NA&gt;</li>\n",
              "\t<li>9</li>\n",
              "\t<li>10</li>\n",
              "\t<li>8</li>\n",
              "\t<li>11</li>\n",
              "\t<li>24</li>\n",
              "\t<li>13</li>\n",
              "</ol>\n",
              "</dd>\n",
              "\t<dt>$SpecialDay</dt>\n",
              "\t\t<dd><ol class=list-inline>\n",
              "\t<li>0</li>\n",
              "\t<li>0.4</li>\n",
              "\t<li>0.8</li>\n",
              "\t<li>1</li>\n",
              "\t<li>0.2</li>\n",
              "\t<li>0.6</li>\n",
              "</ol>\n",
              "</dd>\n",
              "\t<dt>$OperatingSystems</dt>\n",
              "\t\t<dd><ol class=list-inline>\n",
              "\t<li>1</li>\n",
              "\t<li>2</li>\n",
              "\t<li>4</li>\n",
              "\t<li>3</li>\n",
              "\t<li>7</li>\n",
              "\t<li>6</li>\n",
              "\t<li>8</li>\n",
              "\t<li>5</li>\n",
              "</ol>\n",
              "</dd>\n",
              "\t<dt>$Browser</dt>\n",
              "\t\t<dd><ol class=list-inline>\n",
              "\t<li>1</li>\n",
              "\t<li>2</li>\n",
              "\t<li>3</li>\n",
              "\t<li>4</li>\n",
              "\t<li>5</li>\n",
              "\t<li>6</li>\n",
              "\t<li>7</li>\n",
              "\t<li>10</li>\n",
              "\t<li>8</li>\n",
              "\t<li>9</li>\n",
              "\t<li>12</li>\n",
              "\t<li>13</li>\n",
              "\t<li>11</li>\n",
              "</ol>\n",
              "</dd>\n",
              "\t<dt>$Region</dt>\n",
              "\t\t<dd><ol class=list-inline>\n",
              "\t<li>1</li>\n",
              "\t<li>9</li>\n",
              "\t<li>2</li>\n",
              "\t<li>3</li>\n",
              "\t<li>4</li>\n",
              "\t<li>5</li>\n",
              "\t<li>6</li>\n",
              "\t<li>7</li>\n",
              "\t<li>8</li>\n",
              "</ol>\n",
              "</dd>\n",
              "\t<dt>$TrafficType</dt>\n",
              "\t\t<dd><ol class=list-inline>\n",
              "\t<li>1</li>\n",
              "\t<li>2</li>\n",
              "\t<li>3</li>\n",
              "\t<li>4</li>\n",
              "\t<li>5</li>\n",
              "\t<li>6</li>\n",
              "\t<li>7</li>\n",
              "\t<li>8</li>\n",
              "\t<li>9</li>\n",
              "\t<li>10</li>\n",
              "\t<li>11</li>\n",
              "\t<li>12</li>\n",
              "\t<li>13</li>\n",
              "\t<li>14</li>\n",
              "\t<li>15</li>\n",
              "\t<li>18</li>\n",
              "\t<li>19</li>\n",
              "\t<li>16</li>\n",
              "\t<li>17</li>\n",
              "\t<li>20</li>\n",
              "</ol>\n",
              "</dd>\n",
              "\t<dt>$Weekend</dt>\n",
              "\t\t<dd><ol class=list-inline>\n",
              "\t<li>FALSE</li>\n",
              "\t<li>TRUE</li>\n",
              "</ol>\n",
              "</dd>\n",
              "\t<dt>$Revenue</dt>\n",
              "\t\t<dd><ol class=list-inline>\n",
              "\t<li>FALSE</li>\n",
              "\t<li>TRUE</li>\n",
              "</ol>\n",
              "</dd>\n",
              "</dl>\n"
            ],
            "text/latex": "\\begin{description}\n\\item[\\$Administrative] \\begin{enumerate*}\n\\item 0\n\\item 1\n\\item 2\n\\item 4\n\\item 12\n\\item 3\n\\item 10\n\\item 6\n\\item 5\n\\item 9\n\\item 8\n\\item 16\n\\item 13\n\\item 11\n\\item 7\n\\item 18\n\\item 14\n\\item 17\n\\item 19\n\\item 15\n\\item <NA>\n\\item 24\n\\item 22\n\\item 21\n\\item 20\n\\item 23\n\\item 27\n\\item 26\n\\end{enumerate*}\n\n\\item[\\$Informational] \\begin{enumerate*}\n\\item 0\n\\item 1\n\\item 2\n\\item 4\n\\item 16\n\\item 5\n\\item 3\n\\item 14\n\\item 6\n\\item 12\n\\item 7\n\\item <NA>\n\\item 9\n\\item 10\n\\item 8\n\\item 11\n\\item 24\n\\item 13\n\\end{enumerate*}\n\n\\item[\\$SpecialDay] \\begin{enumerate*}\n\\item 0\n\\item 0.4\n\\item 0.8\n\\item 1\n\\item 0.2\n\\item 0.6\n\\end{enumerate*}\n\n\\item[\\$OperatingSystems] \\begin{enumerate*}\n\\item 1\n\\item 2\n\\item 4\n\\item 3\n\\item 7\n\\item 6\n\\item 8\n\\item 5\n\\end{enumerate*}\n\n\\item[\\$Browser] \\begin{enumerate*}\n\\item 1\n\\item 2\n\\item 3\n\\item 4\n\\item 5\n\\item 6\n\\item 7\n\\item 10\n\\item 8\n\\item 9\n\\item 12\n\\item 13\n\\item 11\n\\end{enumerate*}\n\n\\item[\\$Region] \\begin{enumerate*}\n\\item 1\n\\item 9\n\\item 2\n\\item 3\n\\item 4\n\\item 5\n\\item 6\n\\item 7\n\\item 8\n\\end{enumerate*}\n\n\\item[\\$TrafficType] \\begin{enumerate*}\n\\item 1\n\\item 2\n\\item 3\n\\item 4\n\\item 5\n\\item 6\n\\item 7\n\\item 8\n\\item 9\n\\item 10\n\\item 11\n\\item 12\n\\item 13\n\\item 14\n\\item 15\n\\item 18\n\\item 19\n\\item 16\n\\item 17\n\\item 20\n\\end{enumerate*}\n\n\\item[\\$Weekend] \\begin{enumerate*}\n\\item FALSE\n\\item TRUE\n\\end{enumerate*}\n\n\\item[\\$Revenue] \\begin{enumerate*}\n\\item FALSE\n\\item TRUE\n\\end{enumerate*}\n\n\\end{description}\n",
            "text/markdown": "$Administrative\n:   1. 0\n2. 1\n3. 2\n4. 4\n5. 12\n6. 3\n7. 10\n8. 6\n9. 5\n10. 9\n11. 8\n12. 16\n13. 13\n14. 11\n15. 7\n16. 18\n17. 14\n18. 17\n19. 19\n20. 15\n21. &lt;NA&gt;\n22. 24\n23. 22\n24. 21\n25. 20\n26. 23\n27. 27\n28. 26\n\n\n\n$Informational\n:   1. 0\n2. 1\n3. 2\n4. 4\n5. 16\n6. 5\n7. 3\n8. 14\n9. 6\n10. 12\n11. 7\n12. &lt;NA&gt;\n13. 9\n14. 10\n15. 8\n16. 11\n17. 24\n18. 13\n\n\n\n$SpecialDay\n:   1. 0\n2. 0.4\n3. 0.8\n4. 1\n5. 0.2\n6. 0.6\n\n\n\n$OperatingSystems\n:   1. 1\n2. 2\n3. 4\n4. 3\n5. 7\n6. 6\n7. 8\n8. 5\n\n\n\n$Browser\n:   1. 1\n2. 2\n3. 3\n4. 4\n5. 5\n6. 6\n7. 7\n8. 10\n9. 8\n10. 9\n11. 12\n12. 13\n13. 11\n\n\n\n$Region\n:   1. 1\n2. 9\n3. 2\n4. 3\n5. 4\n6. 5\n7. 6\n8. 7\n9. 8\n\n\n\n$TrafficType\n:   1. 1\n2. 2\n3. 3\n4. 4\n5. 5\n6. 6\n7. 7\n8. 8\n9. 9\n10. 10\n11. 11\n12. 12\n13. 13\n14. 14\n15. 15\n16. 18\n17. 19\n18. 16\n19. 17\n20. 20\n\n\n\n$Weekend\n:   1. FALSE\n2. TRUE\n\n\n\n$Revenue\n:   1. FALSE\n2. TRUE\n\n\n\n\n\n",
            "text/plain": [
              "$Administrative\n",
              " [1]  0  1  2  4 12  3 10  6  5  9  8 16 13 11  7 18 14 17 19 15 NA 24 22 21 20\n",
              "[26] 23 27 26\n",
              "\n",
              "$Informational\n",
              " [1]  0  1  2  4 16  5  3 14  6 12  7 NA  9 10  8 11 24 13\n",
              "\n",
              "$SpecialDay\n",
              "[1] 0.0 0.4 0.8 1.0 0.2 0.6\n",
              "\n",
              "$OperatingSystems\n",
              "[1] 1 2 4 3 7 6 8 5\n",
              "\n",
              "$Browser\n",
              " [1]  1  2  3  4  5  6  7 10  8  9 12 13 11\n",
              "\n",
              "$Region\n",
              "[1] 1 9 2 3 4 5 6 7 8\n",
              "\n",
              "$TrafficType\n",
              " [1]  1  2  3  4  5  6  7  8  9 10 11 12 13 14 15 18 19 16 17 20\n",
              "\n",
              "$Weekend\n",
              "[1] FALSE  TRUE\n",
              "\n",
              "$Revenue\n",
              "[1] FALSE  TRUE\n"
            ]
          },
          "metadata": {
            "tags": []
          }
        }
      ]
    },
    {
      "cell_type": "code",
      "metadata": {
        "id": "cxvumrR_MgoD",
        "colab_type": "code",
        "colab": {},
        "outputId": "b4a2cf7c-37a5-4981-a68c-cc61390c0be5"
      },
      "source": [
        "# This the shape of the dataset\n",
        "\n",
        "dim(df)"
      ],
      "execution_count": 0,
      "outputs": [
        {
          "output_type": "display_data",
          "data": {
            "text/html": [
              "<ol class=list-inline>\n",
              "\t<li>12330</li>\n",
              "\t<li>18</li>\n",
              "</ol>\n"
            ],
            "text/latex": "\\begin{enumerate*}\n\\item 12330\n\\item 18\n\\end{enumerate*}\n",
            "text/markdown": "1. 12330\n2. 18\n\n\n",
            "text/plain": [
              "[1] 12330    18"
            ]
          },
          "metadata": {
            "tags": []
          }
        }
      ]
    },
    {
      "cell_type": "markdown",
      "metadata": {
        "id": "iweZQo0cMgoF",
        "colab_type": "text"
      },
      "source": [
        "we have 12330 rows and 18 columns"
      ]
    },
    {
      "cell_type": "code",
      "metadata": {
        "id": "jLaODDpUMgoG",
        "colab_type": "code",
        "colab": {},
        "outputId": "638c3fbe-8e08-4674-d1d5-47c2338c23ca"
      },
      "source": [
        "# Summary of numeric columns\n",
        "\n",
        "df %>%\n",
        "  select_if(is.numeric) %>%\n",
        "  map(~summary(.))"
      ],
      "execution_count": 0,
      "outputs": [
        {
          "output_type": "display_data",
          "data": {
            "text/plain": [
              "$Administrative\n",
              "   Min. 1st Qu.  Median    Mean 3rd Qu.    Max.    NA's \n",
              "  0.000   0.000   1.000   2.318   4.000  27.000      14 \n",
              "\n",
              "$Administrative_Duration\n",
              "   Min. 1st Qu.  Median    Mean 3rd Qu.    Max.    NA's \n",
              "  -1.00    0.00    8.00   80.91   93.50 3398.75      14 \n",
              "\n",
              "$Informational\n",
              "   Min. 1st Qu.  Median    Mean 3rd Qu.    Max.    NA's \n",
              "  0.000   0.000   0.000   0.504   0.000  24.000      14 \n",
              "\n",
              "$Informational_Duration\n",
              "   Min. 1st Qu.  Median    Mean 3rd Qu.    Max.    NA's \n",
              "  -1.00    0.00    0.00   34.51    0.00 2549.38      14 \n",
              "\n",
              "$ProductRelated\n",
              "   Min. 1st Qu.  Median    Mean 3rd Qu.    Max.    NA's \n",
              "   0.00    7.00   18.00   31.76   38.00  705.00      14 \n",
              "\n",
              "$ProductRelated_Duration\n",
              "   Min. 1st Qu.  Median    Mean 3rd Qu.    Max.    NA's \n",
              "   -1.0   185.0   599.8  1196.0  1466.5 63973.5      14 \n",
              "\n",
              "$BounceRates\n",
              "    Min.  1st Qu.   Median     Mean  3rd Qu.     Max.     NA's \n",
              "0.000000 0.000000 0.003119 0.022152 0.016684 0.200000       14 \n",
              "\n",
              "$ExitRates\n",
              "   Min. 1st Qu.  Median    Mean 3rd Qu.    Max.    NA's \n",
              "0.00000 0.01429 0.02512 0.04300 0.05000 0.20000      14 \n",
              "\n",
              "$PageValues\n",
              "   Min. 1st Qu.  Median    Mean 3rd Qu.    Max. \n",
              "  0.000   0.000   0.000   5.889   0.000 361.764 \n",
              "\n",
              "$SpecialDay\n",
              "   Min. 1st Qu.  Median    Mean 3rd Qu.    Max. \n",
              "0.00000 0.00000 0.00000 0.06143 0.00000 1.00000 \n",
              "\n",
              "$OperatingSystems\n",
              "   Min. 1st Qu.  Median    Mean 3rd Qu.    Max. \n",
              "  1.000   2.000   2.000   2.124   3.000   8.000 \n",
              "\n",
              "$Browser\n",
              "   Min. 1st Qu.  Median    Mean 3rd Qu.    Max. \n",
              "  1.000   2.000   2.000   2.357   2.000  13.000 \n",
              "\n",
              "$Region\n",
              "   Min. 1st Qu.  Median    Mean 3rd Qu.    Max. \n",
              "  1.000   1.000   3.000   3.147   4.000   9.000 \n",
              "\n",
              "$TrafficType\n",
              "   Min. 1st Qu.  Median    Mean 3rd Qu.    Max. \n",
              "   1.00    2.00    2.00    4.07    4.00   20.00 \n"
            ]
          },
          "metadata": {
            "tags": []
          }
        }
      ]
    },
    {
      "cell_type": "markdown",
      "metadata": {
        "id": "3SHCwHdHMgoI",
        "colab_type": "text"
      },
      "source": [
        "# Data Cleaning"
      ]
    },
    {
      "cell_type": "code",
      "metadata": {
        "id": "8QQJ3uQlMgoJ",
        "colab_type": "code",
        "colab": {},
        "outputId": "fbcb4a3a-89ce-4d5b-8247-44faa4ea4759"
      },
      "source": [
        "# Checking for missing values\n",
        "colSums(is.na(df))"
      ],
      "execution_count": 0,
      "outputs": [
        {
          "output_type": "display_data",
          "data": {
            "text/html": [
              "<dl class=dl-horizontal>\n",
              "\t<dt>Administrative</dt>\n",
              "\t\t<dd>14</dd>\n",
              "\t<dt>Administrative_Duration</dt>\n",
              "\t\t<dd>14</dd>\n",
              "\t<dt>Informational</dt>\n",
              "\t\t<dd>14</dd>\n",
              "\t<dt>Informational_Duration</dt>\n",
              "\t\t<dd>14</dd>\n",
              "\t<dt>ProductRelated</dt>\n",
              "\t\t<dd>14</dd>\n",
              "\t<dt>ProductRelated_Duration</dt>\n",
              "\t\t<dd>14</dd>\n",
              "\t<dt>BounceRates</dt>\n",
              "\t\t<dd>14</dd>\n",
              "\t<dt>ExitRates</dt>\n",
              "\t\t<dd>14</dd>\n",
              "\t<dt>PageValues</dt>\n",
              "\t\t<dd>0</dd>\n",
              "\t<dt>SpecialDay</dt>\n",
              "\t\t<dd>0</dd>\n",
              "\t<dt>Month</dt>\n",
              "\t\t<dd>0</dd>\n",
              "\t<dt>OperatingSystems</dt>\n",
              "\t\t<dd>0</dd>\n",
              "\t<dt>Browser</dt>\n",
              "\t\t<dd>0</dd>\n",
              "\t<dt>Region</dt>\n",
              "\t\t<dd>0</dd>\n",
              "\t<dt>TrafficType</dt>\n",
              "\t\t<dd>0</dd>\n",
              "\t<dt>VisitorType</dt>\n",
              "\t\t<dd>0</dd>\n",
              "\t<dt>Weekend</dt>\n",
              "\t\t<dd>0</dd>\n",
              "\t<dt>Revenue</dt>\n",
              "\t\t<dd>0</dd>\n",
              "</dl>\n"
            ],
            "text/latex": "\\begin{description*}\n\\item[Administrative] 14\n\\item[Administrative\\textbackslash{}\\_Duration] 14\n\\item[Informational] 14\n\\item[Informational\\textbackslash{}\\_Duration] 14\n\\item[ProductRelated] 14\n\\item[ProductRelated\\textbackslash{}\\_Duration] 14\n\\item[BounceRates] 14\n\\item[ExitRates] 14\n\\item[PageValues] 0\n\\item[SpecialDay] 0\n\\item[Month] 0\n\\item[OperatingSystems] 0\n\\item[Browser] 0\n\\item[Region] 0\n\\item[TrafficType] 0\n\\item[VisitorType] 0\n\\item[Weekend] 0\n\\item[Revenue] 0\n\\end{description*}\n",
            "text/markdown": "Administrative\n:   14Administrative_Duration\n:   14Informational\n:   14Informational_Duration\n:   14ProductRelated\n:   14ProductRelated_Duration\n:   14BounceRates\n:   14ExitRates\n:   14PageValues\n:   0SpecialDay\n:   0Month\n:   0OperatingSystems\n:   0Browser\n:   0Region\n:   0TrafficType\n:   0VisitorType\n:   0Weekend\n:   0Revenue\n:   0\n\n",
            "text/plain": [
              "         Administrative Administrative_Duration           Informational \n",
              "                     14                      14                      14 \n",
              " Informational_Duration          ProductRelated ProductRelated_Duration \n",
              "                     14                      14                      14 \n",
              "            BounceRates               ExitRates              PageValues \n",
              "                     14                      14                       0 \n",
              "             SpecialDay                   Month        OperatingSystems \n",
              "                      0                       0                       0 \n",
              "                Browser                  Region             TrafficType \n",
              "                      0                       0                       0 \n",
              "            VisitorType                 Weekend                 Revenue \n",
              "                      0                       0                       0 "
            ]
          },
          "metadata": {
            "tags": []
          }
        }
      ]
    },
    {
      "cell_type": "code",
      "metadata": {
        "id": "J759BAD2MgoL",
        "colab_type": "code",
        "colab": {},
        "outputId": "39f0a4fc-2f4d-4a8c-97f8-7e49937b0ef2"
      },
      "source": [
        "# Dealing with missing values\n",
        "\n",
        "df = na.omit(df)\n",
        "print(\"The shape of the dataset is : \")\n",
        "print(dim(df))\n",
        "cat(\"\\n\")\n",
        "print(\"There are no missing vallues\")\n",
        "colSums(is.na(df))"
      ],
      "execution_count": 0,
      "outputs": [
        {
          "output_type": "stream",
          "text": [
            "[1] \"The shape of the dataset is : \"\n",
            "[1] 12316    18\n",
            "\n",
            "[1] \"There are no missing vallues\"\n"
          ],
          "name": "stdout"
        },
        {
          "output_type": "display_data",
          "data": {
            "text/html": [
              "<dl class=dl-horizontal>\n",
              "\t<dt>Administrative</dt>\n",
              "\t\t<dd>0</dd>\n",
              "\t<dt>Administrative_Duration</dt>\n",
              "\t\t<dd>0</dd>\n",
              "\t<dt>Informational</dt>\n",
              "\t\t<dd>0</dd>\n",
              "\t<dt>Informational_Duration</dt>\n",
              "\t\t<dd>0</dd>\n",
              "\t<dt>ProductRelated</dt>\n",
              "\t\t<dd>0</dd>\n",
              "\t<dt>ProductRelated_Duration</dt>\n",
              "\t\t<dd>0</dd>\n",
              "\t<dt>BounceRates</dt>\n",
              "\t\t<dd>0</dd>\n",
              "\t<dt>ExitRates</dt>\n",
              "\t\t<dd>0</dd>\n",
              "\t<dt>PageValues</dt>\n",
              "\t\t<dd>0</dd>\n",
              "\t<dt>SpecialDay</dt>\n",
              "\t\t<dd>0</dd>\n",
              "\t<dt>Month</dt>\n",
              "\t\t<dd>0</dd>\n",
              "\t<dt>OperatingSystems</dt>\n",
              "\t\t<dd>0</dd>\n",
              "\t<dt>Browser</dt>\n",
              "\t\t<dd>0</dd>\n",
              "\t<dt>Region</dt>\n",
              "\t\t<dd>0</dd>\n",
              "\t<dt>TrafficType</dt>\n",
              "\t\t<dd>0</dd>\n",
              "\t<dt>VisitorType</dt>\n",
              "\t\t<dd>0</dd>\n",
              "\t<dt>Weekend</dt>\n",
              "\t\t<dd>0</dd>\n",
              "\t<dt>Revenue</dt>\n",
              "\t\t<dd>0</dd>\n",
              "</dl>\n"
            ],
            "text/latex": "\\begin{description*}\n\\item[Administrative] 0\n\\item[Administrative\\textbackslash{}\\_Duration] 0\n\\item[Informational] 0\n\\item[Informational\\textbackslash{}\\_Duration] 0\n\\item[ProductRelated] 0\n\\item[ProductRelated\\textbackslash{}\\_Duration] 0\n\\item[BounceRates] 0\n\\item[ExitRates] 0\n\\item[PageValues] 0\n\\item[SpecialDay] 0\n\\item[Month] 0\n\\item[OperatingSystems] 0\n\\item[Browser] 0\n\\item[Region] 0\n\\item[TrafficType] 0\n\\item[VisitorType] 0\n\\item[Weekend] 0\n\\item[Revenue] 0\n\\end{description*}\n",
            "text/markdown": "Administrative\n:   0Administrative_Duration\n:   0Informational\n:   0Informational_Duration\n:   0ProductRelated\n:   0ProductRelated_Duration\n:   0BounceRates\n:   0ExitRates\n:   0PageValues\n:   0SpecialDay\n:   0Month\n:   0OperatingSystems\n:   0Browser\n:   0Region\n:   0TrafficType\n:   0VisitorType\n:   0Weekend\n:   0Revenue\n:   0\n\n",
            "text/plain": [
              "         Administrative Administrative_Duration           Informational \n",
              "                      0                       0                       0 \n",
              " Informational_Duration          ProductRelated ProductRelated_Duration \n",
              "                      0                       0                       0 \n",
              "            BounceRates               ExitRates              PageValues \n",
              "                      0                       0                       0 \n",
              "             SpecialDay                   Month        OperatingSystems \n",
              "                      0                       0                       0 \n",
              "                Browser                  Region             TrafficType \n",
              "                      0                       0                       0 \n",
              "            VisitorType                 Weekend                 Revenue \n",
              "                      0                       0                       0 "
            ]
          },
          "metadata": {
            "tags": []
          }
        }
      ]
    },
    {
      "cell_type": "markdown",
      "metadata": {
        "id": "MqmSAx_AMgoO",
        "colab_type": "text"
      },
      "source": [
        "The shape of daraset did not change as muchafter dropping null values becauses it moves from 12330 to 12316    "
      ]
    },
    {
      "cell_type": "code",
      "metadata": {
        "id": "Kw5Glg6SMgoP",
        "colab_type": "code",
        "colab": {},
        "outputId": "49945764-f69b-4705-867d-30251cf27559"
      },
      "source": [
        "# Checking for duplicates\n",
        "\n",
        "anyDuplicated(df)"
      ],
      "execution_count": 0,
      "outputs": [
        {
          "output_type": "display_data",
          "data": {
            "text/html": [
              "159"
            ],
            "text/latex": "159",
            "text/markdown": "159",
            "text/plain": [
              "[1] 159"
            ]
          },
          "metadata": {
            "tags": []
          }
        }
      ]
    },
    {
      "cell_type": "code",
      "metadata": {
        "id": "-m25H-jgMgoT",
        "colab_type": "code",
        "colab": {},
        "outputId": "523f158c-9588-4b35-cd70-c838ca448022"
      },
      "source": [
        "# Dropping the duplicates\n",
        "\n",
        "df <- df[!duplicated(df),]\n",
        "anyDuplicated(df)"
      ],
      "execution_count": 0,
      "outputs": [
        {
          "output_type": "display_data",
          "data": {
            "text/html": [
              "0"
            ],
            "text/latex": "0",
            "text/markdown": "0",
            "text/plain": [
              "[1] 0"
            ]
          },
          "metadata": {
            "tags": []
          }
        }
      ]
    },
    {
      "cell_type": "markdown",
      "metadata": {
        "id": "Jb3d8WcIMgoX",
        "colab_type": "text"
      },
      "source": [
        "Duplicates have been dropped from 159 duplicates to 0 duplicates"
      ]
    },
    {
      "cell_type": "code",
      "metadata": {
        "id": "mTm_6ISUMgoZ",
        "colab_type": "code",
        "colab": {}
      },
      "source": [
        "# Checking for outliers\n"
      ],
      "execution_count": 0,
      "outputs": []
    },
    {
      "cell_type": "code",
      "metadata": {
        "id": "P1F81vCxMgod",
        "colab_type": "code",
        "colab": {}
      },
      "source": [
        ""
      ],
      "execution_count": 0,
      "outputs": []
    },
    {
      "cell_type": "code",
      "metadata": {
        "id": "GApqC1HSMgok",
        "colab_type": "code",
        "colab": {}
      },
      "source": [
        ""
      ],
      "execution_count": 0,
      "outputs": []
    },
    {
      "cell_type": "code",
      "metadata": {
        "id": "FqGRCnA4Mgon",
        "colab_type": "code",
        "colab": {}
      },
      "source": [
        ""
      ],
      "execution_count": 0,
      "outputs": []
    },
    {
      "cell_type": "code",
      "metadata": {
        "id": "2llXK6wBMgor",
        "colab_type": "code",
        "colab": {}
      },
      "source": [
        ""
      ],
      "execution_count": 0,
      "outputs": []
    },
    {
      "cell_type": "code",
      "metadata": {
        "id": "zYc_1TihMgov",
        "colab_type": "code",
        "colab": {}
      },
      "source": [
        ""
      ],
      "execution_count": 0,
      "outputs": []
    },
    {
      "cell_type": "code",
      "metadata": {
        "id": "Q1hOjXAnMgoy",
        "colab_type": "code",
        "colab": {}
      },
      "source": [
        ""
      ],
      "execution_count": 0,
      "outputs": []
    },
    {
      "cell_type": "code",
      "metadata": {
        "id": "hLfb3GHIMgo1",
        "colab_type": "code",
        "colab": {}
      },
      "source": [
        ""
      ],
      "execution_count": 0,
      "outputs": []
    }
  ]
}